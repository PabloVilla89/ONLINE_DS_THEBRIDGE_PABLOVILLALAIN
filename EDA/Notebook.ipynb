{
 "cells": [
  {
   "cell_type": "code",
   "execution_count": null,
   "metadata": {},
   "outputs": [],
   "source": [
    "#Carga de datos y unificacion de datos\n",
    "import pandas as pd\n",
    "\n",
    "# Cargar cada archivo CSV\n",
    "df_2020_2024 = pd.read_csv(\"informe_horario_para_usuarios (2020-2024).csv\", delimiter=';')\n",
    "df_2015_2019 = pd.read_csv(\"informe_horario_para_usuarios (2015-2019).csv\", delimiter=';')\n",
    "df_2010_2014 = pd.read_csv(\"informe_horario_para_usuarios (2010-2014).csv\", delimiter=';')\n",
    "df_2005_2009 = pd.read_csv(\"informe_horario_para_usuarios (2005-2009).csv\", delimiter=';')\n",
    "\n",
    "# Combinar los DataFrames en uno solo\n",
    "df = pd.concat([df_2020_2024, df_2015_2019, df_2010_2014, df_2005_2009], ignore_index=True)\n"
   ]
  },
  {
   "cell_type": "markdown",
   "metadata": {},
   "source": []
  }
 ],
 "metadata": {
  "kernelspec": {
   "display_name": "Python 3",
   "language": "python",
   "name": "python3"
  },
  "language_info": {
   "name": "python",
   "version": "3.13.0"
  }
 },
 "nbformat": 4,
 "nbformat_minor": 2
}
